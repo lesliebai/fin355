{
 "cells": [
  {
   "cell_type": "markdown",
   "metadata": {},
   "source": [
    "## Problem Set 3 (Part 1 of 2): Interacting with the Alpha Vantage API using Python libraries"
   ]
  },
  {
   "cell_type": "markdown",
   "metadata": {},
   "source": [
    "As automation and algorithms continue to disrupt the investment managmentment business, it is important to know how to access finacial data that is realtime and interactive. In this problem set we will access the Alpha Vantage API to build datasets of recent stock performance. Alpha Vantage is a provider of free APIs for realtime and historical data on stocks, forex, and cryptocurrencies.\n",
    "\n",
    "This part of the exercise demonstrates:\n",
    "\n",
    "1. Setting up a programming environment to work with APIs\n",
    "2. Interpreting documentation to change parameters\n",
    "3. Using the 'requests' library to make HTTP requests\n",
    "4. Getting data through HTTP requests\n",
    "5. Using the 'alpha_vantage' library to access the API and format the data\n",
    "6. Creating an Excel file from the data\n",
    "\n",
    "Documentation links:\n",
    "<br />Alpha Vantage: https://www.alphavantage.co/documentation/\n",
    "<br />Alpha Vantage Python library: https://alpha-vantage.readthedocs.io/en/latest/#\n",
    "<br />Requests library: https://2.python-requests.org/en/master/\n",
    "<br />Pandas DataFrame: https://pandas.pydata.org/pandas-docs/stable/reference/frame.html"
   ]
  },
  {
   "cell_type": "markdown",
   "metadata": {},
   "source": [
    "______"
   ]
  },
  {
   "cell_type": "markdown",
   "metadata": {},
   "source": [
    "#### Get API key\n",
    "\n",
    "Go to https://www.alphavantage.co/support/#api-key and obtain an API key. Copy this key into the \"api_key\" variable in the next cell:"
   ]
  },
  {
   "cell_type": "code",
   "execution_count": 2,
   "metadata": {},
   "outputs": [],
   "source": [
    "api_key = \"K2EKTJDKW4WL0ZME\""
   ]
  },
  {
   "cell_type": "markdown",
   "metadata": {},
   "source": [
    "Assign a stock ticker symbol of your choosing to the 'ticker' variable:"
   ]
  },
  {
   "cell_type": "code",
   "execution_count": 3,
   "metadata": {},
   "outputs": [],
   "source": [
    "ticker = \"FB\""
   ]
  },
  {
   "cell_type": "markdown",
   "metadata": {},
   "source": [
    "Import the appropriate libraries in the lines below each comment:"
   ]
  },
  {
   "cell_type": "code",
   "execution_count": 4,
   "metadata": {},
   "outputs": [],
   "source": [
    "# pandas\n",
    "import pandas as pd\n",
    "# requests \n",
    "import requests\n",
    "# alpha_vantage TimeSeries class \n",
    "from alpha_vantage.timeseries import TimeSeries \n",
    "# matplotlib.pyplot as plt\n",
    "import matplotlib.pyplot as plt"
   ]
  },
  {
   "cell_type": "markdown",
   "metadata": {},
   "source": [
    "#### Access API through an HTTP request\n",
    "\n",
    "Assign the API url to the variable \"link\".\n",
    "<br />(refer to the Alpha Vantage documention)\n",
    "<br />\n",
    "<br />Format the url string to include the \"api_key\" variable and the \"ticker\" variable Reassign the url u"
   ]
  },
  {
   "cell_type": "code",
   "execution_count": 5,
   "metadata": {},
   "outputs": [
    {
     "name": "stdout",
     "output_type": "stream",
     "text": [
      "https://www.alphavantage.co/query?function=TIME_SERIES_INTRADAY&symbol=FB&interval=5min&apikey=K2EKTJDKW4WL0ZME\n"
     ]
    }
   ],
   "source": [
    "link = f\"https://www.alphavantage.co/query?function=TIME_SERIES_INTRADAY&symbol={ticker}&interval=5min&apikey={api_key}\"\n",
    "print(link)"
   ]
  },
  {
   "cell_type": "markdown",
   "metadata": {},
   "source": [
    "Refer to the requests documentation to set up a get request to the above url. Assign the output to a new variable, preferably your ticket symbol. "
   ]
  },
  {
   "cell_type": "code",
   "execution_count": 5,
   "metadata": {},
   "outputs": [],
   "source": [
    "fb = requests.get(link)"
   ]
  },
  {
   "cell_type": "markdown",
   "metadata": {},
   "source": [
    "Print the HTTP response:"
   ]
  },
  {
   "cell_type": "code",
   "execution_count": 6,
   "metadata": {},
   "outputs": [
    {
     "name": "stdout",
     "output_type": "stream",
     "text": [
      "<Response [200]>\n"
     ]
    }
   ],
   "source": [
    "print(fb)"
   ]
  },
  {
   "cell_type": "markdown",
   "metadata": {},
   "source": [
    "Print the data:"
   ]
  },
  {
   "cell_type": "code",
   "execution_count": 8,
   "metadata": {},
   "outputs": [
    {
     "ename": "NameError",
     "evalue": "name 'fb' is not defined",
     "output_type": "error",
     "traceback": [
      "\u001b[0;31m---------------------------------------------------------------------------\u001b[0m",
      "\u001b[0;31mNameError\u001b[0m                                 Traceback (most recent call last)",
      "\u001b[0;32m<ipython-input-8-6fca529f38a5>\u001b[0m in \u001b[0;36m<module>\u001b[0;34m\u001b[0m\n\u001b[0;32m----> 1\u001b[0;31m \u001b[0mprint\u001b[0m\u001b[0;34m(\u001b[0m\u001b[0mfb\u001b[0m\u001b[0;34m.\u001b[0m\u001b[0mtext\u001b[0m\u001b[0;34m)\u001b[0m\u001b[0;34m\u001b[0m\u001b[0;34m\u001b[0m\u001b[0m\n\u001b[0m",
      "\u001b[0;31mNameError\u001b[0m: name 'fb' is not defined"
     ]
    }
   ],
   "source": [
    "print(fb.text)"
   ]
  },
  {
   "cell_type": "markdown",
   "metadata": {},
   "source": [
    "______"
   ]
  },
  {
   "cell_type": "markdown",
   "metadata": {},
   "source": [
    "#### Access the API through the alpha_vantage libray\n",
    "\n",
    "Create an instance of the TimeSeries class imported earlier. Assign your API key to the key argument. Use \"pandas\" as an output format."
   ]
  },
  {
   "cell_type": "code",
   "execution_count": 9,
   "metadata": {},
   "outputs": [],
   "source": [
    "ts = TimeSeries(key=api_key,output_format=\"pandas\")"
   ]
  },
  {
   "cell_type": "markdown",
   "metadata": {},
   "source": [
    "Use the get_intraday method to access API data. Get the last 100 observations of data for your ticker symbol at 1-minute intervals:"
   ]
  },
  {
   "cell_type": "code",
   "execution_count": 12,
   "metadata": {},
   "outputs": [],
   "source": [
    "data, meta_data = ts.get_intraday(symbol=ticker ,interval='1min', outputsize='compact')"
   ]
  },
  {
   "cell_type": "markdown",
   "metadata": {},
   "source": [
    "Print the data:"
   ]
  },
  {
   "cell_type": "code",
   "execution_count": 13,
   "metadata": {},
   "outputs": [
    {
     "name": "stdout",
     "output_type": "stream",
     "text": [
      "                      1. open   2. high    3. low  4. close  5. volume\n",
      "date                                                                  \n",
      "2019-09-23 14:21:00  186.7100  186.7600  186.6800  186.7000    16144.0\n",
      "2019-09-23 14:22:00  186.6877  186.6877  186.5400  186.5784    19527.0\n",
      "2019-09-23 14:23:00  186.5700  186.6400  186.5110  186.6100    16209.0\n",
      "2019-09-23 14:24:00  186.6200  186.6899  186.6200  186.6600     9674.0\n",
      "2019-09-23 14:25:00  186.6650  186.6800  186.5900  186.5900     5322.0\n",
      "2019-09-23 14:26:00  186.5800  186.6500  186.5700  186.5887     8774.0\n",
      "2019-09-23 14:27:00  186.5700  186.5700  186.5100  186.5237    10087.0\n",
      "2019-09-23 14:28:00  186.5265  186.5533  186.5100  186.5100     8284.0\n",
      "2019-09-23 14:29:00  186.5200  186.5200  186.4700  186.4700    10568.0\n",
      "2019-09-23 14:30:00  186.4700  186.5500  186.4300  186.5400    20332.0\n",
      "2019-09-23 14:31:00  186.5300  186.5400  186.5200  186.5316     3076.0\n",
      "2019-09-23 14:32:00  186.5300  186.5300  186.4500  186.4500    27280.0\n",
      "2019-09-23 14:33:00  186.4300  186.4994  186.4200  186.4400    13230.0\n",
      "2019-09-23 14:34:00  186.4368  186.4600  186.4000  186.4600    13965.0\n",
      "2019-09-23 14:35:00  186.4600  186.6056  186.4600  186.6056    18158.0\n",
      "2019-09-23 14:36:00  186.6000  186.6800  186.5973  186.6617    15554.0\n",
      "2019-09-23 14:37:00  186.6593  186.6700  186.6001  186.6600    11809.0\n",
      "2019-09-23 14:38:00  186.6300  186.6800  186.6300  186.6500     4881.0\n",
      "2019-09-23 14:39:00  186.6600  186.7000  186.6400  186.7000     5303.0\n",
      "2019-09-23 14:40:00  186.6900  186.8177  186.6850  186.7309    29048.0\n",
      "2019-09-23 14:41:00  186.7600  186.7600  186.6600  186.6994    12089.0\n",
      "2019-09-23 14:42:00  186.7000  186.7800  186.7000  186.7700    10959.0\n",
      "2019-09-23 14:43:00  186.7500  186.8100  186.7100  186.7600    23607.0\n",
      "2019-09-23 14:44:00  186.7800  186.8862  186.7800  186.8024    27203.0\n",
      "2019-09-23 14:45:00  186.7900  186.8400  186.7138  186.8300    19105.0\n",
      "2019-09-23 14:46:00  186.8499  187.0100  186.8457  186.9800    44900.0\n",
      "2019-09-23 14:47:00  186.9800  186.9800  186.9500  186.9800    10489.0\n",
      "2019-09-23 14:48:00  186.9600  186.9800  186.9300  186.9500    15488.0\n",
      "2019-09-23 14:49:00  186.9500  186.9500  186.9000  186.9300    13264.0\n",
      "2019-09-23 14:50:00  186.9300  187.0800  186.9300  186.9902    20230.0\n",
      "...                       ...       ...       ...       ...        ...\n",
      "2019-09-23 15:31:00  187.3050  187.3200  187.2200  187.2500    14149.0\n",
      "2019-09-23 15:32:00  187.2550  187.2700  187.1200  187.1400    20802.0\n",
      "2019-09-23 15:33:00  187.1402  187.1800  187.1100  187.1686    25246.0\n",
      "2019-09-23 15:34:00  187.1500  187.1600  187.1000  187.1000    10388.0\n",
      "2019-09-23 15:35:00  187.1100  187.2200  187.1000  187.2200    21029.0\n",
      "2019-09-23 15:36:00  187.2292  187.2550  187.1900  187.1900    17330.0\n",
      "2019-09-23 15:37:00  187.1850  187.2200  187.0800  187.1300    22374.0\n",
      "2019-09-23 15:38:00  187.1350  187.1350  187.0400  187.0418    14998.0\n",
      "2019-09-23 15:39:00  187.0400  187.0951  187.0200  187.0798    28528.0\n",
      "2019-09-23 15:40:00  187.0900  187.1000  186.9301  186.9600    27406.0\n",
      "2019-09-23 15:41:00  186.9600  187.0651  186.9400  186.9950    20722.0\n",
      "2019-09-23 15:42:00  186.9900  187.0200  186.8600  186.9000    28767.0\n",
      "2019-09-23 15:43:00  186.9000  186.9600  186.9000  186.9300    18410.0\n",
      "2019-09-23 15:44:00  186.9400  186.9650  186.8900  186.9650    17385.0\n",
      "2019-09-23 15:45:00  186.9600  187.0192  186.9600  186.9921    25954.0\n",
      "2019-09-23 15:46:00  187.0000  187.0600  186.9800  187.0600    21492.0\n",
      "2019-09-23 15:47:00  187.0700  187.1000  187.0500  187.0500    22037.0\n",
      "2019-09-23 15:48:00  187.0400  187.0700  186.9500  186.9500    20845.0\n",
      "2019-09-23 15:49:00  186.9600  186.9900  186.9300  186.9900    22648.0\n",
      "2019-09-23 15:50:00  186.9883  187.0800  186.9800  187.0400    26480.0\n",
      "2019-09-23 15:51:00  187.0600  187.1800  187.0500  187.1200    61862.0\n",
      "2019-09-23 15:52:00  187.1100  187.1100  187.0600  187.0800    20657.0\n",
      "2019-09-23 15:53:00  187.0800  187.0800  186.9800  187.0100    30972.0\n",
      "2019-09-23 15:54:00  187.0000  187.1300  187.0000  187.1152    30806.0\n",
      "2019-09-23 15:55:00  187.1150  187.1200  187.0000  187.0011    31233.0\n",
      "2019-09-23 15:56:00  187.0120  187.2553  186.9450  186.9970   122242.0\n",
      "2019-09-23 15:57:00  186.9900  187.0000  186.9000  186.9150    38783.0\n",
      "2019-09-23 15:58:00  186.9176  186.9700  186.8600  186.9300    74761.0\n",
      "2019-09-23 15:59:00  186.9300  186.9400  186.8100  186.8200    97218.0\n",
      "2019-09-23 16:00:00  186.8200  187.1000  186.7900  186.8500   253923.0\n",
      "\n",
      "[100 rows x 5 columns]\n"
     ]
    }
   ],
   "source": [
    "print(data)"
   ]
  },
  {
   "cell_type": "markdown",
   "metadata": {},
   "source": [
    "Plot one column of the time series data with the ticket symbol as the title of the graph.\n",
    "<br />(refer to prior problem set examples)"
   ]
  },
  {
   "cell_type": "code",
   "execution_count": 16,
   "metadata": {},
   "outputs": [
    {
     "data": {
      "image/png": "[encoded data removed]",
      "text/plain": [
       "<Figure size 432x288 with 1 Axes>"
      ]
     },
     "metadata": {
      "needs_background": "light"
     },
     "output_type": "display_data"
    }
   ],
   "source": [
    "data['1. open'].plot()\n",
    "plt.title(ticker)\n",
    "plt.show()"
   ]
  },
  {
   "cell_type": "markdown",
   "metadata": {},
   "source": [
    "______"
   ]
  },
  {
   "cell_type": "markdown",
   "metadata": {},
   "source": [
    "#### Export intraday data to Excel file\n",
    "\n",
    "Refer to the pandas.DataFrame documentation and create an Excel file that includes your time series data of your stock price:"
   ]
  },
  {
   "cell_type": "code",
   "execution_count": 20,
   "metadata": {},
   "outputs": [],
   "source": [
    "data.to_excel('my_fb_stock_data.xlsx')"
   ]
  },
  {
   "cell_type": "code",
   "execution_count": null,
   "metadata": {},
   "outputs": [],
   "source": []
  }
 ],
 "metadata": {
  "kernelspec": {
   "display_name": "Python 3",
   "language": "python",
   "name": "python3"
  },
  "language_info": {
   "codemirror_mode": {
    "name": "ipython",
    "version": 3
   },
   "file_extension": ".py",
   "mimetype": "text/x-python",
   "name": "python",
   "nbconvert_exporter": "python",
   "pygments_lexer": "ipython3",
   "version": "3.7.1"
  }
 },
 "nbformat": 4,
 "nbformat_minor": 2
}
